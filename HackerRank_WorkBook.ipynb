{
 "cells": [
  {
   "cell_type": "code",
   "execution_count": 1,
   "metadata": {},
   "outputs": [],
   "source": [
    "import math\n",
    "import os\n",
    "import random\n",
    "import re\n",
    "import sys"
   ]
  },
  {
   "cell_type": "code",
   "execution_count": 2,
   "metadata": {},
   "outputs": [],
   "source": [
    "def sockMerchant(n, ar):\n",
    "    \n",
    "    ar.sort()\n",
    "    \n",
    "    ar.append('#')\n",
    "    \n",
    "    i = 0\n",
    "    \n",
    "    pairs = 0\n",
    "\n",
    "    while i < n:\n",
    "        if ar[i] == ar[i + 1]:\n",
    "            pairs += 1\n",
    "            i += 2\n",
    "        else:\n",
    "            i += 1\n",
    "    return pairs"
   ]
  },
  {
   "cell_type": "code",
   "execution_count": 3,
   "metadata": {},
   "outputs": [
    {
     "data": {
      "text/plain": [
       "3"
      ]
     },
     "execution_count": 3,
     "metadata": {},
     "output_type": "execute_result"
    }
   ],
   "source": [
    "sockMerchant(9, [10, 20, 20, 10, 10, 30, 50, 10, 20])"
   ]
  },
  {
   "cell_type": "code",
   "execution_count": 5,
   "metadata": {},
   "outputs": [],
   "source": [
    "def countingValleys(n, s):\n",
    "    level = 0\n",
    "    valley = 0\n",
    "    for i in range(n):\n",
    "        if s[i] == 'U':\n",
    "            level += 1\n",
    "            if level == 0:\n",
    "                valley += 1\n",
    "        else:\n",
    "            level -= 1    \n",
    "    return valley      "
   ]
  },
  {
   "cell_type": "code",
   "execution_count": 6,
   "metadata": {},
   "outputs": [
    {
     "data": {
      "text/plain": [
       "2"
      ]
     },
     "execution_count": 6,
     "metadata": {},
     "output_type": "execute_result"
    }
   ],
   "source": [
    "countingValleys(12, ['D', 'D', 'U', 'U', 'D', 'D', 'U', 'D', 'U', 'U', 'U', 'D'])"
   ]
  },
  {
   "cell_type": "code",
   "execution_count": 7,
   "metadata": {},
   "outputs": [],
   "source": [
    "def jumpingOnClouds(c):    \n",
    "    count = 0\n",
    "    \n",
    "    i = 0\n",
    "    \n",
    "    n = len(c)\n",
    "    \n",
    "    while i+2 < n:\n",
    "        if c[i] == c[i + 2]:\n",
    "            i += 2\n",
    "            count += 1\n",
    "        elif c[i] == c[i + 1]:\n",
    "            i += 1\n",
    "            count += 1\n",
    "        elif c[i] == c[-i]:\n",
    "            i += 1\n",
    "            count += 1\n",
    "        else:\n",
    "            i += 1\n",
    "    return count"
   ]
  },
  {
   "cell_type": "code",
   "execution_count": 8,
   "metadata": {},
   "outputs": [
    {
     "data": {
      "text/plain": [
       "2"
      ]
     },
     "execution_count": 8,
     "metadata": {},
     "output_type": "execute_result"
    }
   ],
   "source": [
    "jumpingOnClouds([0, 0, 0, 1, 0, 0])"
   ]
  },
  {
   "cell_type": "code",
   "execution_count": 9,
   "metadata": {},
   "outputs": [],
   "source": [
    "def hourglassSum(arr):\n",
    "    a = 0\n",
    "    b = 3\n",
    "    x = 1\n",
    "    y = 0\n",
    "    z = 3\n",
    "\n",
    "\n",
    "    tops = []\n",
    "    middles = []\n",
    "    bottoms = []\n",
    "\n",
    "    for r in arr[0:4]:\n",
    "        tops.append(r[a:b])\n",
    "        tops.append(r[a+1:b+1])\n",
    "        tops.append(r[a+2:b+2])\n",
    "        tops.append(r[a+3:b+3])\n",
    "    \n",
    "    for r in arr[1:5]:\n",
    "        middles.append(r[x])\n",
    "        middles.append(r[x+1])\n",
    "        middles.append(r[x+2])\n",
    "        middles.append(r[x+3])\n",
    "    \n",
    "    for r in arr[2:6]:\n",
    "        bottoms.append(r[y:z])\n",
    "        bottoms.append(r[y+1:z+1])\n",
    "        bottoms.append(r[y+2:z+2])\n",
    "        bottoms.append(r[y+3:z+3])\n",
    "        \n",
    "    results = []\n",
    "    \n",
    "    for i in range(len(tops)):\n",
    "        results.append(sum(tops[i]) + middles[i] + sum(bottoms[i]))\n",
    "    \n",
    "    return max(results)"
   ]
  },
  {
   "cell_type": "code",
   "execution_count": 10,
   "metadata": {},
   "outputs": [
    {
     "data": {
      "text/plain": [
       "19"
      ]
     },
     "execution_count": 10,
     "metadata": {},
     "output_type": "execute_result"
    }
   ],
   "source": [
    "arr = [\n",
    "    [1, 1, 1, 0, 0, 0],\n",
    "    [0, 1, 0, 0, 0, 0],\n",
    "    [1, 1, 1, 0, 0, 0],\n",
    "    [0, 0, 2, 4, 4, 0],\n",
    "    [0, 0, 0, 2, 0, 0],\n",
    "    [0, 0, 1, 2, 4, 0]\n",
    "    ]\n",
    "\n",
    "hourglassSum(arr)"
   ]
  },
  {
   "cell_type": "code",
   "execution_count": 11,
   "metadata": {},
   "outputs": [],
   "source": [
    "def rotLeft(a, d):\n",
    "    for i in range(d):\n",
    "        x = a[0]\n",
    "        a.pop(0)\n",
    "        a.append(x)\n",
    "    return a"
   ]
  },
  {
   "cell_type": "code",
   "execution_count": 12,
   "metadata": {},
   "outputs": [
    {
     "data": {
      "text/plain": [
       "[5, 1, 2, 3, 4]"
      ]
     },
     "execution_count": 12,
     "metadata": {},
     "output_type": "execute_result"
    }
   ],
   "source": [
    "rotLeft([1, 2, 3, 4, 5], 4)"
   ]
  },
  {
   "cell_type": "code",
   "execution_count": 381,
   "metadata": {},
   "outputs": [],
   "source": [
    "def minimumBribes(q):   \n",
    "\n",
    "    s = list(range(1, len(q) + 1))\n",
    "    bribes = 0\n",
    "    count = 0\n",
    "    \n",
    "    while s != q:\n",
    "        i = 0\n",
    "        if count < 2:\n",
    "            while i + 1 < len(q):\n",
    "                if q[i] > q[i + 1]:\n",
    "                    x = q[i]\n",
    "                    q.pop(i)\n",
    "                    q.insert(i + 1, x )\n",
    "                    count += 1\n",
    "                    bribes += 1\n",
    "                else:\n",
    "                    i += 1\n",
    "                    count = 0\n",
    "        else:\n",
    "            return print('Too chaotic')\n",
    "    return bribes"
   ]
  },
  {
   "cell_type": "code",
   "execution_count": 385,
   "metadata": {},
   "outputs": [
    {
     "data": {
      "text/plain": [
       "7"
      ]
     },
     "execution_count": 385,
     "metadata": {},
     "output_type": "execute_result"
    }
   ],
   "source": [
    "minimumBribes([1, 2, 5, 3, 7, 8, 6, 4])"
   ]
  }
 ],
 "metadata": {
  "kernelspec": {
   "display_name": "Python [conda env:PythonData]",
   "language": "python",
   "name": "conda-env-PythonData-py"
  },
  "language_info": {
   "codemirror_mode": {
    "name": "ipython",
    "version": 3
   },
   "file_extension": ".py",
   "mimetype": "text/x-python",
   "name": "python",
   "nbconvert_exporter": "python",
   "pygments_lexer": "ipython3",
   "version": "3.6.5"
  }
 },
 "nbformat": 4,
 "nbformat_minor": 2
}
